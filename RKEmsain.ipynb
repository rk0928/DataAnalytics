{
 "cells": [
  {
   "cell_type": "code",
   "execution_count": 1,
   "id": "721a8687",
   "metadata": {},
   "outputs": [],
   "source": [
    "## Libraries"
   ]
  },
  {
   "cell_type": "code",
   "execution_count": 2,
   "id": "180db638",
   "metadata": {},
   "outputs": [],
   "source": [
    "import pandas as pd\n",
    "import numpy as np\n",
    "import matplotlib.pyplot as plt\n",
    "from pylab import *\n",
    "import seaborn as sns\n",
    "%matplotlib inline\n",
    "import  statsmodels.api as sm\n",
    "import statsmodels.stats.api as sms\n",
    "from scipy.stats import boxcox"
   ]
  },
  {
   "cell_type": "code",
   "execution_count": 3,
   "id": "43a15b97",
   "metadata": {},
   "outputs": [],
   "source": [
    "ESI = pd.read_csv('~renoodle/Downloads/Employee Satisfaction Index.csv')"
   ]
  },
  {
   "cell_type": "code",
   "execution_count": 4,
   "id": "31445f3d",
   "metadata": {},
   "outputs": [],
   "source": [
    "#Recode Activity into a New Variable"
   ]
  },
  {
   "cell_type": "code",
   "execution_count": 5,
   "id": "b0fc9e8a",
   "metadata": {},
   "outputs": [
    {
     "data": {
      "text/html": [
       "<div>\n",
       "<style scoped>\n",
       "    .dataframe tbody tr th:only-of-type {\n",
       "        vertical-align: middle;\n",
       "    }\n",
       "\n",
       "    .dataframe tbody tr th {\n",
       "        vertical-align: top;\n",
       "    }\n",
       "\n",
       "    .dataframe thead th {\n",
       "        text-align: right;\n",
       "    }\n",
       "</style>\n",
       "<table border=\"1\" class=\"dataframe\">\n",
       "  <thead>\n",
       "    <tr style=\"text-align: right;\">\n",
       "      <th></th>\n",
       "      <th>Unnamed: 0</th>\n",
       "      <th>emp_id</th>\n",
       "      <th>age</th>\n",
       "      <th>Dept</th>\n",
       "      <th>location</th>\n",
       "      <th>education</th>\n",
       "      <th>recruitment_type</th>\n",
       "      <th>job_level</th>\n",
       "      <th>rating</th>\n",
       "      <th>onsite</th>\n",
       "      <th>awards</th>\n",
       "      <th>certifications</th>\n",
       "      <th>salary</th>\n",
       "      <th>satisfied</th>\n",
       "    </tr>\n",
       "  </thead>\n",
       "  <tbody>\n",
       "    <tr>\n",
       "      <th>0</th>\n",
       "      <td>0</td>\n",
       "      <td>HR8270</td>\n",
       "      <td>28</td>\n",
       "      <td>HR</td>\n",
       "      <td>Suburb</td>\n",
       "      <td>PG</td>\n",
       "      <td>Referral</td>\n",
       "      <td>5</td>\n",
       "      <td>2</td>\n",
       "      <td>0</td>\n",
       "      <td>1</td>\n",
       "      <td>0</td>\n",
       "      <td>86750</td>\n",
       "      <td>1</td>\n",
       "    </tr>\n",
       "    <tr>\n",
       "      <th>1</th>\n",
       "      <td>1</td>\n",
       "      <td>TECH1860</td>\n",
       "      <td>50</td>\n",
       "      <td>Technology</td>\n",
       "      <td>Suburb</td>\n",
       "      <td>PG</td>\n",
       "      <td>Walk-in</td>\n",
       "      <td>3</td>\n",
       "      <td>5</td>\n",
       "      <td>1</td>\n",
       "      <td>2</td>\n",
       "      <td>1</td>\n",
       "      <td>42419</td>\n",
       "      <td>0</td>\n",
       "    </tr>\n",
       "    <tr>\n",
       "      <th>2</th>\n",
       "      <td>2</td>\n",
       "      <td>TECH6390</td>\n",
       "      <td>43</td>\n",
       "      <td>Technology</td>\n",
       "      <td>Suburb</td>\n",
       "      <td>UG</td>\n",
       "      <td>Referral</td>\n",
       "      <td>4</td>\n",
       "      <td>1</td>\n",
       "      <td>0</td>\n",
       "      <td>2</td>\n",
       "      <td>0</td>\n",
       "      <td>65715</td>\n",
       "      <td>0</td>\n",
       "    </tr>\n",
       "    <tr>\n",
       "      <th>3</th>\n",
       "      <td>3</td>\n",
       "      <td>SAL6191</td>\n",
       "      <td>44</td>\n",
       "      <td>Sales</td>\n",
       "      <td>City</td>\n",
       "      <td>PG</td>\n",
       "      <td>On-Campus</td>\n",
       "      <td>2</td>\n",
       "      <td>3</td>\n",
       "      <td>1</td>\n",
       "      <td>0</td>\n",
       "      <td>0</td>\n",
       "      <td>29805</td>\n",
       "      <td>1</td>\n",
       "    </tr>\n",
       "    <tr>\n",
       "      <th>4</th>\n",
       "      <td>4</td>\n",
       "      <td>HR6734</td>\n",
       "      <td>33</td>\n",
       "      <td>HR</td>\n",
       "      <td>City</td>\n",
       "      <td>UG</td>\n",
       "      <td>Recruitment Agency</td>\n",
       "      <td>2</td>\n",
       "      <td>1</td>\n",
       "      <td>0</td>\n",
       "      <td>5</td>\n",
       "      <td>0</td>\n",
       "      <td>29805</td>\n",
       "      <td>1</td>\n",
       "    </tr>\n",
       "  </tbody>\n",
       "</table>\n",
       "</div>"
      ],
      "text/plain": [
       "   Unnamed: 0    emp_id  age        Dept location education  \\\n",
       "0           0    HR8270   28          HR   Suburb        PG   \n",
       "1           1  TECH1860   50  Technology   Suburb        PG   \n",
       "2           2  TECH6390   43  Technology   Suburb        UG   \n",
       "3           3   SAL6191   44       Sales     City        PG   \n",
       "4           4    HR6734   33          HR     City        UG   \n",
       "\n",
       "     recruitment_type  job_level  rating  onsite  awards  certifications  \\\n",
       "0            Referral          5       2       0       1               0   \n",
       "1             Walk-in          3       5       1       2               1   \n",
       "2            Referral          4       1       0       2               0   \n",
       "3           On-Campus          2       3       1       0               0   \n",
       "4  Recruitment Agency          2       1       0       5               0   \n",
       "\n",
       "   salary  satisfied  \n",
       "0   86750          1  \n",
       "1   42419          0  \n",
       "2   65715          0  \n",
       "3   29805          1  \n",
       "4   29805          1  "
      ]
     },
     "execution_count": 5,
     "metadata": {},
     "output_type": "execute_result"
    }
   ],
   "source": [
    "ESI.head()"
   ]
  },
  {
   "cell_type": "code",
   "execution_count": 6,
   "id": "f82d1df5",
   "metadata": {},
   "outputs": [],
   "source": [
    "## Dropping Columns"
   ]
  },
  {
   "cell_type": "code",
   "execution_count": 7,
   "id": "a771d59f",
   "metadata": {},
   "outputs": [],
   "source": [
    "emsain = ESI[['age', 'Dept', 'location', 'job_level', 'recruitment_type', 'rating', 'satisfied', 'education', 'onsite']]"
   ]
  },
  {
   "cell_type": "code",
   "execution_count": 8,
   "id": "3c8630c7",
   "metadata": {},
   "outputs": [
    {
     "data": {
      "text/html": [
       "<div>\n",
       "<style scoped>\n",
       "    .dataframe tbody tr th:only-of-type {\n",
       "        vertical-align: middle;\n",
       "    }\n",
       "\n",
       "    .dataframe tbody tr th {\n",
       "        vertical-align: top;\n",
       "    }\n",
       "\n",
       "    .dataframe thead th {\n",
       "        text-align: right;\n",
       "    }\n",
       "</style>\n",
       "<table border=\"1\" class=\"dataframe\">\n",
       "  <thead>\n",
       "    <tr style=\"text-align: right;\">\n",
       "      <th></th>\n",
       "      <th>age</th>\n",
       "      <th>Dept</th>\n",
       "      <th>location</th>\n",
       "      <th>job_level</th>\n",
       "      <th>recruitment_type</th>\n",
       "      <th>rating</th>\n",
       "      <th>satisfied</th>\n",
       "      <th>education</th>\n",
       "      <th>onsite</th>\n",
       "    </tr>\n",
       "  </thead>\n",
       "  <tbody>\n",
       "    <tr>\n",
       "      <th>0</th>\n",
       "      <td>28</td>\n",
       "      <td>HR</td>\n",
       "      <td>Suburb</td>\n",
       "      <td>5</td>\n",
       "      <td>Referral</td>\n",
       "      <td>2</td>\n",
       "      <td>1</td>\n",
       "      <td>PG</td>\n",
       "      <td>0</td>\n",
       "    </tr>\n",
       "    <tr>\n",
       "      <th>1</th>\n",
       "      <td>50</td>\n",
       "      <td>Technology</td>\n",
       "      <td>Suburb</td>\n",
       "      <td>3</td>\n",
       "      <td>Walk-in</td>\n",
       "      <td>5</td>\n",
       "      <td>0</td>\n",
       "      <td>PG</td>\n",
       "      <td>1</td>\n",
       "    </tr>\n",
       "    <tr>\n",
       "      <th>2</th>\n",
       "      <td>43</td>\n",
       "      <td>Technology</td>\n",
       "      <td>Suburb</td>\n",
       "      <td>4</td>\n",
       "      <td>Referral</td>\n",
       "      <td>1</td>\n",
       "      <td>0</td>\n",
       "      <td>UG</td>\n",
       "      <td>0</td>\n",
       "    </tr>\n",
       "    <tr>\n",
       "      <th>3</th>\n",
       "      <td>44</td>\n",
       "      <td>Sales</td>\n",
       "      <td>City</td>\n",
       "      <td>2</td>\n",
       "      <td>On-Campus</td>\n",
       "      <td>3</td>\n",
       "      <td>1</td>\n",
       "      <td>PG</td>\n",
       "      <td>1</td>\n",
       "    </tr>\n",
       "    <tr>\n",
       "      <th>4</th>\n",
       "      <td>33</td>\n",
       "      <td>HR</td>\n",
       "      <td>City</td>\n",
       "      <td>2</td>\n",
       "      <td>Recruitment Agency</td>\n",
       "      <td>1</td>\n",
       "      <td>1</td>\n",
       "      <td>UG</td>\n",
       "      <td>0</td>\n",
       "    </tr>\n",
       "  </tbody>\n",
       "</table>\n",
       "</div>"
      ],
      "text/plain": [
       "   age        Dept location  job_level    recruitment_type  rating  satisfied  \\\n",
       "0   28          HR   Suburb          5            Referral       2          1   \n",
       "1   50  Technology   Suburb          3             Walk-in       5          0   \n",
       "2   43  Technology   Suburb          4            Referral       1          0   \n",
       "3   44       Sales     City          2           On-Campus       3          1   \n",
       "4   33          HR     City          2  Recruitment Agency       1          1   \n",
       "\n",
       "  education  onsite  \n",
       "0        PG       0  \n",
       "1        PG       1  \n",
       "2        UG       0  \n",
       "3        PG       1  \n",
       "4        UG       0  "
      ]
     },
     "execution_count": 8,
     "metadata": {},
     "output_type": "execute_result"
    }
   ],
   "source": [
    "emsain.head()"
   ]
  },
  {
   "cell_type": "code",
   "execution_count": 9,
   "id": "033fcfa7",
   "metadata": {},
   "outputs": [],
   "source": [
    "## Changing Dept, recruitment_typelocation and education to integers"
   ]
  },
  {
   "cell_type": "code",
   "execution_count": 10,
   "id": "b86ee31b",
   "metadata": {},
   "outputs": [],
   "source": [
    "def Dept (series):\n",
    "    if series == \"HR\":\n",
    "        return 0\n",
    "    if series == \"Marketing\":\n",
    "        return 1\n",
    "    if series == \"Purchasing\":\n",
    "        return 2\n",
    "    if series == \"Sales\":\n",
    "        return 3\n",
    "    if series == \"Technology\":\n",
    "        return 4"
   ]
  },
  {
   "cell_type": "code",
   "execution_count": 11,
   "id": "5e30071d",
   "metadata": {},
   "outputs": [],
   "source": [
    "def education (series):\n",
    "    if series == \"PG\":\n",
    "        return 0\n",
    "    if series == \"UG\":\n",
    "        return 1"
   ]
  },
  {
   "cell_type": "code",
   "execution_count": 21,
   "id": "2e90bd00",
   "metadata": {},
   "outputs": [],
   "source": [
    "def location (series):\n",
    "    if series == \"City\":\n",
    "        return 0\n",
    "    if series == \"Suburb\":\n",
    "        return 1"
   ]
  },
  {
   "cell_type": "code",
   "execution_count": 22,
   "id": "81633a31",
   "metadata": {},
   "outputs": [
    {
     "data": {
      "text/html": [
       "<div>\n",
       "<style scoped>\n",
       "    .dataframe tbody tr th:only-of-type {\n",
       "        vertical-align: middle;\n",
       "    }\n",
       "\n",
       "    .dataframe tbody tr th {\n",
       "        vertical-align: top;\n",
       "    }\n",
       "\n",
       "    .dataframe thead th {\n",
       "        text-align: right;\n",
       "    }\n",
       "</style>\n",
       "<table border=\"1\" class=\"dataframe\">\n",
       "  <thead>\n",
       "    <tr style=\"text-align: right;\">\n",
       "      <th></th>\n",
       "      <th>age</th>\n",
       "      <th>Dept</th>\n",
       "      <th>location</th>\n",
       "      <th>job_level</th>\n",
       "      <th>recruitment_type</th>\n",
       "      <th>rating</th>\n",
       "      <th>satisfied</th>\n",
       "      <th>education</th>\n",
       "      <th>onsite</th>\n",
       "      <th>Dept1</th>\n",
       "      <th>recruitment_type1</th>\n",
       "      <th>education1</th>\n",
       "    </tr>\n",
       "  </thead>\n",
       "  <tbody>\n",
       "    <tr>\n",
       "      <th>0</th>\n",
       "      <td>28</td>\n",
       "      <td>HR</td>\n",
       "      <td>Suburb</td>\n",
       "      <td>5</td>\n",
       "      <td>Referral</td>\n",
       "      <td>2</td>\n",
       "      <td>1</td>\n",
       "      <td>PG</td>\n",
       "      <td>0</td>\n",
       "      <td>0</td>\n",
       "      <td>2</td>\n",
       "      <td>0</td>\n",
       "    </tr>\n",
       "    <tr>\n",
       "      <th>1</th>\n",
       "      <td>50</td>\n",
       "      <td>Technology</td>\n",
       "      <td>Suburb</td>\n",
       "      <td>3</td>\n",
       "      <td>Walk-in</td>\n",
       "      <td>5</td>\n",
       "      <td>0</td>\n",
       "      <td>PG</td>\n",
       "      <td>1</td>\n",
       "      <td>4</td>\n",
       "      <td>3</td>\n",
       "      <td>0</td>\n",
       "    </tr>\n",
       "    <tr>\n",
       "      <th>2</th>\n",
       "      <td>43</td>\n",
       "      <td>Technology</td>\n",
       "      <td>Suburb</td>\n",
       "      <td>4</td>\n",
       "      <td>Referral</td>\n",
       "      <td>1</td>\n",
       "      <td>0</td>\n",
       "      <td>UG</td>\n",
       "      <td>0</td>\n",
       "      <td>4</td>\n",
       "      <td>2</td>\n",
       "      <td>1</td>\n",
       "    </tr>\n",
       "    <tr>\n",
       "      <th>3</th>\n",
       "      <td>44</td>\n",
       "      <td>Sales</td>\n",
       "      <td>City</td>\n",
       "      <td>2</td>\n",
       "      <td>On-Campus</td>\n",
       "      <td>3</td>\n",
       "      <td>1</td>\n",
       "      <td>PG</td>\n",
       "      <td>1</td>\n",
       "      <td>3</td>\n",
       "      <td>0</td>\n",
       "      <td>0</td>\n",
       "    </tr>\n",
       "    <tr>\n",
       "      <th>4</th>\n",
       "      <td>33</td>\n",
       "      <td>HR</td>\n",
       "      <td>City</td>\n",
       "      <td>2</td>\n",
       "      <td>Recruitment Agency</td>\n",
       "      <td>1</td>\n",
       "      <td>1</td>\n",
       "      <td>UG</td>\n",
       "      <td>0</td>\n",
       "      <td>0</td>\n",
       "      <td>1</td>\n",
       "      <td>1</td>\n",
       "    </tr>\n",
       "  </tbody>\n",
       "</table>\n",
       "</div>"
      ],
      "text/plain": [
       "   age        Dept location  job_level    recruitment_type  rating  satisfied  \\\n",
       "0   28          HR   Suburb          5            Referral       2          1   \n",
       "1   50  Technology   Suburb          3             Walk-in       5          0   \n",
       "2   43  Technology   Suburb          4            Referral       1          0   \n",
       "3   44       Sales     City          2           On-Campus       3          1   \n",
       "4   33          HR     City          2  Recruitment Agency       1          1   \n",
       "\n",
       "  education  onsite  Dept1  recruitment_type1  education1  \n",
       "0        PG       0      0                  2           0  \n",
       "1        PG       1      4                  3           0  \n",
       "2        UG       0      4                  2           1  \n",
       "3        PG       1      3                  0           0  \n",
       "4        UG       0      0                  1           1  "
      ]
     },
     "execution_count": 22,
     "metadata": {},
     "output_type": "execute_result"
    }
   ],
   "source": [
    "emsain.head()"
   ]
  },
  {
   "cell_type": "code",
   "execution_count": 23,
   "id": "abd0e6ba",
   "metadata": {},
   "outputs": [
    {
     "name": "stderr",
     "output_type": "stream",
     "text": [
      "/var/folders/dy/3cj_6r_563b7v9s2jh41rn8m0000gn/T/ipykernel_12241/1192735450.py:1: SettingWithCopyWarning: \n",
      "A value is trying to be set on a copy of a slice from a DataFrame.\n",
      "Try using .loc[row_indexer,col_indexer] = value instead\n",
      "\n",
      "See the caveats in the documentation: https://pandas.pydata.org/pandas-docs/stable/user_guide/indexing.html#returning-a-view-versus-a-copy\n",
      "  emsain['Dept1'] = emsain['Dept'].apply(Dept)\n"
     ]
    }
   ],
   "source": [
    "emsain['Dept1'] = emsain['Dept'].apply(Dept)"
   ]
  },
  {
   "cell_type": "code",
   "execution_count": 24,
   "id": "64c6bc91",
   "metadata": {},
   "outputs": [
    {
     "data": {
      "text/html": [
       "<div>\n",
       "<style scoped>\n",
       "    .dataframe tbody tr th:only-of-type {\n",
       "        vertical-align: middle;\n",
       "    }\n",
       "\n",
       "    .dataframe tbody tr th {\n",
       "        vertical-align: top;\n",
       "    }\n",
       "\n",
       "    .dataframe thead th {\n",
       "        text-align: right;\n",
       "    }\n",
       "</style>\n",
       "<table border=\"1\" class=\"dataframe\">\n",
       "  <thead>\n",
       "    <tr style=\"text-align: right;\">\n",
       "      <th></th>\n",
       "      <th>age</th>\n",
       "      <th>Dept</th>\n",
       "      <th>location</th>\n",
       "      <th>job_level</th>\n",
       "      <th>recruitment_type</th>\n",
       "      <th>rating</th>\n",
       "      <th>satisfied</th>\n",
       "      <th>education</th>\n",
       "      <th>onsite</th>\n",
       "      <th>Dept1</th>\n",
       "      <th>recruitment_type1</th>\n",
       "      <th>education1</th>\n",
       "    </tr>\n",
       "  </thead>\n",
       "  <tbody>\n",
       "    <tr>\n",
       "      <th>0</th>\n",
       "      <td>28</td>\n",
       "      <td>HR</td>\n",
       "      <td>Suburb</td>\n",
       "      <td>5</td>\n",
       "      <td>Referral</td>\n",
       "      <td>2</td>\n",
       "      <td>1</td>\n",
       "      <td>PG</td>\n",
       "      <td>0</td>\n",
       "      <td>0</td>\n",
       "      <td>2</td>\n",
       "      <td>0</td>\n",
       "    </tr>\n",
       "    <tr>\n",
       "      <th>1</th>\n",
       "      <td>50</td>\n",
       "      <td>Technology</td>\n",
       "      <td>Suburb</td>\n",
       "      <td>3</td>\n",
       "      <td>Walk-in</td>\n",
       "      <td>5</td>\n",
       "      <td>0</td>\n",
       "      <td>PG</td>\n",
       "      <td>1</td>\n",
       "      <td>4</td>\n",
       "      <td>3</td>\n",
       "      <td>0</td>\n",
       "    </tr>\n",
       "    <tr>\n",
       "      <th>2</th>\n",
       "      <td>43</td>\n",
       "      <td>Technology</td>\n",
       "      <td>Suburb</td>\n",
       "      <td>4</td>\n",
       "      <td>Referral</td>\n",
       "      <td>1</td>\n",
       "      <td>0</td>\n",
       "      <td>UG</td>\n",
       "      <td>0</td>\n",
       "      <td>4</td>\n",
       "      <td>2</td>\n",
       "      <td>1</td>\n",
       "    </tr>\n",
       "    <tr>\n",
       "      <th>3</th>\n",
       "      <td>44</td>\n",
       "      <td>Sales</td>\n",
       "      <td>City</td>\n",
       "      <td>2</td>\n",
       "      <td>On-Campus</td>\n",
       "      <td>3</td>\n",
       "      <td>1</td>\n",
       "      <td>PG</td>\n",
       "      <td>1</td>\n",
       "      <td>3</td>\n",
       "      <td>0</td>\n",
       "      <td>0</td>\n",
       "    </tr>\n",
       "    <tr>\n",
       "      <th>4</th>\n",
       "      <td>33</td>\n",
       "      <td>HR</td>\n",
       "      <td>City</td>\n",
       "      <td>2</td>\n",
       "      <td>Recruitment Agency</td>\n",
       "      <td>1</td>\n",
       "      <td>1</td>\n",
       "      <td>UG</td>\n",
       "      <td>0</td>\n",
       "      <td>0</td>\n",
       "      <td>1</td>\n",
       "      <td>1</td>\n",
       "    </tr>\n",
       "  </tbody>\n",
       "</table>\n",
       "</div>"
      ],
      "text/plain": [
       "   age        Dept location  job_level    recruitment_type  rating  satisfied  \\\n",
       "0   28          HR   Suburb          5            Referral       2          1   \n",
       "1   50  Technology   Suburb          3             Walk-in       5          0   \n",
       "2   43  Technology   Suburb          4            Referral       1          0   \n",
       "3   44       Sales     City          2           On-Campus       3          1   \n",
       "4   33          HR     City          2  Recruitment Agency       1          1   \n",
       "\n",
       "  education  onsite  Dept1  recruitment_type1  education1  \n",
       "0        PG       0      0                  2           0  \n",
       "1        PG       1      4                  3           0  \n",
       "2        UG       0      4                  2           1  \n",
       "3        PG       1      3                  0           0  \n",
       "4        UG       0      0                  1           1  "
      ]
     },
     "execution_count": 24,
     "metadata": {},
     "output_type": "execute_result"
    }
   ],
   "source": [
    "emsain.head()"
   ]
  },
  {
   "cell_type": "code",
   "execution_count": 25,
   "id": "4aaa3646",
   "metadata": {},
   "outputs": [],
   "source": [
    "def recruitment_type (series):\n",
    "    if series == \"On-Campus\":\n",
    "        return 0\n",
    "    if series == \"Recruitment Agency\":\n",
    "        return 1\n",
    "    if series == \"Referral\":\n",
    "        return 2\n",
    "    if series == \"Walk-in\":\n",
    "        return 3"
   ]
  },
  {
   "cell_type": "code",
   "execution_count": 26,
   "id": "4b341265",
   "metadata": {},
   "outputs": [
    {
     "name": "stderr",
     "output_type": "stream",
     "text": [
      "/var/folders/dy/3cj_6r_563b7v9s2jh41rn8m0000gn/T/ipykernel_12241/3563280524.py:1: SettingWithCopyWarning: \n",
      "A value is trying to be set on a copy of a slice from a DataFrame.\n",
      "Try using .loc[row_indexer,col_indexer] = value instead\n",
      "\n",
      "See the caveats in the documentation: https://pandas.pydata.org/pandas-docs/stable/user_guide/indexing.html#returning-a-view-versus-a-copy\n",
      "  emsain['recruitment_type1'] = emsain['recruitment_type'].apply(recruitment_type)\n"
     ]
    }
   ],
   "source": [
    "emsain['recruitment_type1'] = emsain['recruitment_type'].apply(recruitment_type)"
   ]
  },
  {
   "cell_type": "code",
   "execution_count": 27,
   "id": "dbf8b9b5",
   "metadata": {},
   "outputs": [
    {
     "name": "stderr",
     "output_type": "stream",
     "text": [
      "/var/folders/dy/3cj_6r_563b7v9s2jh41rn8m0000gn/T/ipykernel_12241/2671813348.py:1: SettingWithCopyWarning: \n",
      "A value is trying to be set on a copy of a slice from a DataFrame.\n",
      "Try using .loc[row_indexer,col_indexer] = value instead\n",
      "\n",
      "See the caveats in the documentation: https://pandas.pydata.org/pandas-docs/stable/user_guide/indexing.html#returning-a-view-versus-a-copy\n",
      "  emsain['education1'] = emsain['education'].apply(education)\n"
     ]
    }
   ],
   "source": [
    "emsain['education1'] = emsain['education'].apply(education)"
   ]
  },
  {
   "cell_type": "code",
   "execution_count": 28,
   "id": "9e430408",
   "metadata": {},
   "outputs": [
    {
     "name": "stderr",
     "output_type": "stream",
     "text": [
      "/var/folders/dy/3cj_6r_563b7v9s2jh41rn8m0000gn/T/ipykernel_12241/1192735450.py:1: SettingWithCopyWarning: \n",
      "A value is trying to be set on a copy of a slice from a DataFrame.\n",
      "Try using .loc[row_indexer,col_indexer] = value instead\n",
      "\n",
      "See the caveats in the documentation: https://pandas.pydata.org/pandas-docs/stable/user_guide/indexing.html#returning-a-view-versus-a-copy\n",
      "  emsain['Dept1'] = emsain['Dept'].apply(Dept)\n"
     ]
    }
   ],
   "source": [
    "emsain['Dept1'] = emsain['Dept'].apply(Dept)"
   ]
  },
  {
   "cell_type": "code",
   "execution_count": 29,
   "id": "a0d3e623",
   "metadata": {},
   "outputs": [
    {
     "name": "stderr",
     "output_type": "stream",
     "text": [
      "/var/folders/dy/3cj_6r_563b7v9s2jh41rn8m0000gn/T/ipykernel_12241/4189490208.py:1: SettingWithCopyWarning: \n",
      "A value is trying to be set on a copy of a slice from a DataFrame.\n",
      "Try using .loc[row_indexer,col_indexer] = value instead\n",
      "\n",
      "See the caveats in the documentation: https://pandas.pydata.org/pandas-docs/stable/user_guide/indexing.html#returning-a-view-versus-a-copy\n",
      "  emsain['location1'] = emsain['location'].apply(location)\n"
     ]
    }
   ],
   "source": [
    "emsain['location1'] = emsain['location'].apply(location)"
   ]
  },
  {
   "cell_type": "code",
   "execution_count": 30,
   "id": "fd710544",
   "metadata": {},
   "outputs": [
    {
     "data": {
      "text/html": [
       "<div>\n",
       "<style scoped>\n",
       "    .dataframe tbody tr th:only-of-type {\n",
       "        vertical-align: middle;\n",
       "    }\n",
       "\n",
       "    .dataframe tbody tr th {\n",
       "        vertical-align: top;\n",
       "    }\n",
       "\n",
       "    .dataframe thead th {\n",
       "        text-align: right;\n",
       "    }\n",
       "</style>\n",
       "<table border=\"1\" class=\"dataframe\">\n",
       "  <thead>\n",
       "    <tr style=\"text-align: right;\">\n",
       "      <th></th>\n",
       "      <th>age</th>\n",
       "      <th>Dept</th>\n",
       "      <th>location</th>\n",
       "      <th>job_level</th>\n",
       "      <th>recruitment_type</th>\n",
       "      <th>rating</th>\n",
       "      <th>satisfied</th>\n",
       "      <th>education</th>\n",
       "      <th>onsite</th>\n",
       "      <th>Dept1</th>\n",
       "      <th>recruitment_type1</th>\n",
       "      <th>education1</th>\n",
       "      <th>location1</th>\n",
       "    </tr>\n",
       "  </thead>\n",
       "  <tbody>\n",
       "    <tr>\n",
       "      <th>0</th>\n",
       "      <td>28</td>\n",
       "      <td>HR</td>\n",
       "      <td>Suburb</td>\n",
       "      <td>5</td>\n",
       "      <td>Referral</td>\n",
       "      <td>2</td>\n",
       "      <td>1</td>\n",
       "      <td>PG</td>\n",
       "      <td>0</td>\n",
       "      <td>0</td>\n",
       "      <td>2</td>\n",
       "      <td>0</td>\n",
       "      <td>1</td>\n",
       "    </tr>\n",
       "    <tr>\n",
       "      <th>1</th>\n",
       "      <td>50</td>\n",
       "      <td>Technology</td>\n",
       "      <td>Suburb</td>\n",
       "      <td>3</td>\n",
       "      <td>Walk-in</td>\n",
       "      <td>5</td>\n",
       "      <td>0</td>\n",
       "      <td>PG</td>\n",
       "      <td>1</td>\n",
       "      <td>4</td>\n",
       "      <td>3</td>\n",
       "      <td>0</td>\n",
       "      <td>1</td>\n",
       "    </tr>\n",
       "    <tr>\n",
       "      <th>2</th>\n",
       "      <td>43</td>\n",
       "      <td>Technology</td>\n",
       "      <td>Suburb</td>\n",
       "      <td>4</td>\n",
       "      <td>Referral</td>\n",
       "      <td>1</td>\n",
       "      <td>0</td>\n",
       "      <td>UG</td>\n",
       "      <td>0</td>\n",
       "      <td>4</td>\n",
       "      <td>2</td>\n",
       "      <td>1</td>\n",
       "      <td>1</td>\n",
       "    </tr>\n",
       "    <tr>\n",
       "      <th>3</th>\n",
       "      <td>44</td>\n",
       "      <td>Sales</td>\n",
       "      <td>City</td>\n",
       "      <td>2</td>\n",
       "      <td>On-Campus</td>\n",
       "      <td>3</td>\n",
       "      <td>1</td>\n",
       "      <td>PG</td>\n",
       "      <td>1</td>\n",
       "      <td>3</td>\n",
       "      <td>0</td>\n",
       "      <td>0</td>\n",
       "      <td>0</td>\n",
       "    </tr>\n",
       "    <tr>\n",
       "      <th>4</th>\n",
       "      <td>33</td>\n",
       "      <td>HR</td>\n",
       "      <td>City</td>\n",
       "      <td>2</td>\n",
       "      <td>Recruitment Agency</td>\n",
       "      <td>1</td>\n",
       "      <td>1</td>\n",
       "      <td>UG</td>\n",
       "      <td>0</td>\n",
       "      <td>0</td>\n",
       "      <td>1</td>\n",
       "      <td>1</td>\n",
       "      <td>0</td>\n",
       "    </tr>\n",
       "  </tbody>\n",
       "</table>\n",
       "</div>"
      ],
      "text/plain": [
       "   age        Dept location  job_level    recruitment_type  rating  satisfied  \\\n",
       "0   28          HR   Suburb          5            Referral       2          1   \n",
       "1   50  Technology   Suburb          3             Walk-in       5          0   \n",
       "2   43  Technology   Suburb          4            Referral       1          0   \n",
       "3   44       Sales     City          2           On-Campus       3          1   \n",
       "4   33          HR     City          2  Recruitment Agency       1          1   \n",
       "\n",
       "  education  onsite  Dept1  recruitment_type1  education1  location1  \n",
       "0        PG       0      0                  2           0          1  \n",
       "1        PG       1      4                  3           0          1  \n",
       "2        UG       0      4                  2           1          1  \n",
       "3        PG       1      3                  0           0          0  \n",
       "4        UG       0      0                  1           1          0  "
      ]
     },
     "execution_count": 30,
     "metadata": {},
     "output_type": "execute_result"
    }
   ],
   "source": [
    "emsain.head()"
   ]
  },
  {
   "cell_type": "code",
   "execution_count": 31,
   "id": "4b4ff94a",
   "metadata": {},
   "outputs": [],
   "source": [
    "# Testing for Linearity and Normality"
   ]
  },
  {
   "cell_type": "code",
   "execution_count": 32,
   "id": "96a91695",
   "metadata": {},
   "outputs": [
    {
     "name": "stderr",
     "output_type": "stream",
     "text": [
      "/opt/anaconda3/lib/python3.9/site-packages/seaborn/distributions.py:2619: FutureWarning: `distplot` is a deprecated function and will be removed in a future version. Please adapt your code to use either `displot` (a figure-level function with similar flexibility) or `histplot` (an axes-level function for histograms).\n",
      "  warnings.warn(msg, FutureWarning)\n"
     ]
    },
    {
     "data": {
      "text/plain": [
       "<AxesSubplot:xlabel='age', ylabel='Density'>"
      ]
     },
     "execution_count": 32,
     "metadata": {},
     "output_type": "execute_result"
    },
    {
     "data": {
      "image/png": "[encoded data removed]",
      "text/plain": [
       "<Figure size 640x480 with 1 Axes>"
      ]
     },
     "metadata": {},
     "output_type": "display_data"
    }
   ],
   "source": [
    "sns.distplot(emsain['age'])"
   ]
  },
  {
   "cell_type": "code",
   "execution_count": 33,
   "id": "fd8d76bc",
   "metadata": {},
   "outputs": [
    {
     "name": "stderr",
     "output_type": "stream",
     "text": [
      "/opt/anaconda3/lib/python3.9/site-packages/seaborn/distributions.py:2619: FutureWarning: `distplot` is a deprecated function and will be removed in a future version. Please adapt your code to use either `displot` (a figure-level function with similar flexibility) or `histplot` (an axes-level function for histograms).\n",
      "  warnings.warn(msg, FutureWarning)\n"
     ]
    },
    {
     "data": {
      "text/plain": [
       "<AxesSubplot:xlabel='satisfied', ylabel='Density'>"
      ]
     },
     "execution_count": 33,
     "metadata": {},
     "output_type": "execute_result"
    },
    {
     "data": {
      "image/png": "[encoded data removed]",
      "text/plain": [
       "<Figure size 640x480 with 1 Axes>"
      ]
     },
     "metadata": {},
     "output_type": "display_data"
    }
   ],
   "source": [
    "sns.distplot(emsain['satisfied'])"
   ]
  },
  {
   "cell_type": "code",
   "execution_count": 34,
   "id": "a88df95b",
   "metadata": {},
   "outputs": [
    {
     "name": "stderr",
     "output_type": "stream",
     "text": [
      "/opt/anaconda3/lib/python3.9/site-packages/seaborn/distributions.py:2619: FutureWarning: `distplot` is a deprecated function and will be removed in a future version. Please adapt your code to use either `displot` (a figure-level function with similar flexibility) or `histplot` (an axes-level function for histograms).\n",
      "  warnings.warn(msg, FutureWarning)\n"
     ]
    },
    {
     "data": {
      "text/plain": [
       "<AxesSubplot:xlabel='age', ylabel='Density'>"
      ]
     },
     "execution_count": 34,
     "metadata": {},
     "output_type": "execute_result"
    },
    {
     "data": {
      "image/png": "[encoded data removed]",
      "text/plain": [
       "<Figure size 640x480 with 1 Axes>"
      ]
     },
     "metadata": {},
     "output_type": "display_data"
    }
   ],
   "source": [
    "sns.distplot(emsain['age'])"
   ]
  },
  {
   "cell_type": "code",
   "execution_count": 35,
   "id": "efd2f255",
   "metadata": {},
   "outputs": [
    {
     "name": "stderr",
     "output_type": "stream",
     "text": [
      "/opt/anaconda3/lib/python3.9/site-packages/seaborn/distributions.py:2619: FutureWarning: `distplot` is a deprecated function and will be removed in a future version. Please adapt your code to use either `displot` (a figure-level function with similar flexibility) or `histplot` (an axes-level function for histograms).\n",
      "  warnings.warn(msg, FutureWarning)\n"
     ]
    },
    {
     "data": {
      "text/plain": [
       "<AxesSubplot:xlabel='location1', ylabel='Density'>"
      ]
     },
     "execution_count": 35,
     "metadata": {},
     "output_type": "execute_result"
    },
    {
     "data": {
      "image/png": "[encoded data removed]",
      "text/plain": [
       "<Figure size 640x480 with 1 Axes>"
      ]
     },
     "metadata": {},
     "output_type": "display_data"
    }
   ],
   "source": [
    "sns.distplot(emsain['location1'])"
   ]
  },
  {
   "cell_type": "code",
   "execution_count": 36,
   "id": "1cec517b",
   "metadata": {},
   "outputs": [
    {
     "name": "stderr",
     "output_type": "stream",
     "text": [
      "/opt/anaconda3/lib/python3.9/site-packages/seaborn/distributions.py:2619: FutureWarning: `distplot` is a deprecated function and will be removed in a future version. Please adapt your code to use either `displot` (a figure-level function with similar flexibility) or `histplot` (an axes-level function for histograms).\n",
      "  warnings.warn(msg, FutureWarning)\n"
     ]
    },
    {
     "data": {
      "text/plain": [
       "<AxesSubplot:xlabel='onsite', ylabel='Density'>"
      ]
     },
     "execution_count": 36,
     "metadata": {},
     "output_type": "execute_result"
    },
    {
     "data": {
      "image/png": "[encoded data removed]",
      "text/plain": [
       "<Figure size 640x480 with 1 Axes>"
      ]
     },
     "metadata": {},
     "output_type": "display_data"
    }
   ],
   "source": [
    "sns.distplot(emsain['onsite'])"
   ]
  },
  {
   "cell_type": "code",
   "execution_count": 37,
   "id": "7bba251a",
   "metadata": {},
   "outputs": [],
   "source": [
    "emsain.to_csv('emsain.csv,index=TRUE')"
   ]
  },
  {
   "cell_type": "code",
   "execution_count": 38,
   "id": "1ffa07c4",
   "metadata": {},
   "outputs": [
    {
     "name": "stderr",
     "output_type": "stream",
     "text": [
      "/opt/anaconda3/lib/python3.9/site-packages/seaborn/distributions.py:2619: FutureWarning: `distplot` is a deprecated function and will be removed in a future version. Please adapt your code to use either `displot` (a figure-level function with similar flexibility) or `histplot` (an axes-level function for histograms).\n",
      "  warnings.warn(msg, FutureWarning)\n"
     ]
    },
    {
     "data": {
      "text/plain": [
       "<AxesSubplot:xlabel='rating', ylabel='Density'>"
      ]
     },
     "execution_count": 38,
     "metadata": {},
     "output_type": "execute_result"
    },
    {
     "data": {
      "image/png": "[encoded data removed]",
      "text/plain": [
       "<Figure size 640x480 with 1 Axes>"
      ]
     },
     "metadata": {},
     "output_type": "display_data"
    }
   ],
   "source": [
    "sns.distplot(emsain['rating'])"
   ]
  },
  {
   "cell_type": "code",
   "execution_count": 39,
   "id": "848836ef",
   "metadata": {},
   "outputs": [],
   "source": [
    "# Testing for Homoscedasticity"
   ]
  },
  {
   "cell_type": "code",
   "execution_count": 40,
   "id": "5691f446",
   "metadata": {},
   "outputs": [],
   "source": [
    "x = emsain['satisfied']\n",
    "y = emsain['rating']"
   ]
  },
  {
   "cell_type": "code",
   "execution_count": 41,
   "id": "891fe921",
   "metadata": {},
   "outputs": [],
   "source": [
    "model = sm.OLS(y,x).fit()"
   ]
  },
  {
   "cell_type": "code",
   "execution_count": 42,
   "id": "87a3c267",
   "metadata": {},
   "outputs": [
    {
     "name": "stdout",
     "output_type": "stream",
     "text": [
      "<statsmodels.regression.linear_model.RegressionResultsWrapper object at 0x7f92aac72dc0>\n"
     ]
    }
   ],
   "source": [
    "print(model)"
   ]
  },
  {
   "cell_type": "code",
   "execution_count": 43,
   "id": "108d65d8",
   "metadata": {},
   "outputs": [],
   "source": [
    "pred_val = model.fittedvalues.copy()\n",
    "true_val = emsain['satisfied'].values.copy()\n",
    "residual = true_val - pred_val"
   ]
  },
  {
   "cell_type": "code",
   "execution_count": 44,
   "id": "fccc380a",
   "metadata": {},
   "outputs": [],
   "source": [
    "pred_val = model.fittedvalues.copy()\n",
    "true_val = emsain['rating'].values.copy()\n",
    "residual = true_val - pred_val"
   ]
  },
  {
   "cell_type": "code",
   "execution_count": 45,
   "id": "7aa32df6",
   "metadata": {},
   "outputs": [
    {
     "data": {
      "text/plain": [
       "(12.010628997840833, nan, 12.281627892046954, 0.0004986262045604675)"
      ]
     },
     "execution_count": 45,
     "metadata": {},
     "output_type": "execute_result"
    }
   ],
   "source": [
    "sms.diagnostic.het_breuschpagan(residual, emsain[['satisfied']])"
   ]
  },
  {
   "cell_type": "code",
   "execution_count": 46,
   "id": "fea88b1d",
   "metadata": {},
   "outputs": [
    {
     "data": {
      "text/plain": [
       "(262.5066014567057, nan, 551.5555166179364, 1.0564526973610858e-82)"
      ]
     },
     "execution_count": 46,
     "metadata": {},
     "output_type": "execute_result"
    }
   ],
   "source": [
    "sms.diagnostic.het_breuschpagan(residual, ESI[['rating']])"
   ]
  },
  {
   "cell_type": "code",
   "execution_count": 47,
   "id": "a755afd3",
   "metadata": {},
   "outputs": [
    {
     "data": {
      "text/plain": [
       "Ttest_1sampResult(statistic=14.309774611344556, pvalue=3.9430572232127936e-39)"
      ]
     },
     "execution_count": 47,
     "metadata": {},
     "output_type": "execute_result"
    }
   ],
   "source": [
    "sms.linear_harvey_collier(model)"
   ]
  },
  {
   "cell_type": "code",
   "execution_count": 48,
   "id": "11b678fe",
   "metadata": {},
   "outputs": [],
   "source": [
    "transformed, _ = boxcox(ESI['rating'])"
   ]
  },
  {
   "cell_type": "code",
   "execution_count": 49,
   "id": "f71fc844",
   "metadata": {},
   "outputs": [
    {
     "data": {
      "text/html": [
       "<table class=\"simpletable\">\n",
       "<caption>OLS Regression Results</caption>\n",
       "<tr>\n",
       "  <th>Dep. Variable:</th>         <td>rating</td>      <th>  R-squared (uncentered):</th>      <td>   0.978</td> \n",
       "</tr>\n",
       "<tr>\n",
       "  <th>Model:</th>                   <td>OLS</td>       <th>  Adj. R-squared (uncentered):</th> <td>   0.978</td> \n",
       "</tr>\n",
       "<tr>\n",
       "  <th>Method:</th>             <td>Least Squares</td>  <th>  F-statistic:       </th>          <td>2.187e+04</td>\n",
       "</tr>\n",
       "<tr>\n",
       "  <th>Date:</th>             <td>Wed, 22 Mar 2023</td> <th>  Prob (F-statistic):</th>           <td>  0.00</td>  \n",
       "</tr>\n",
       "<tr>\n",
       "  <th>Time:</th>                 <td>15:59:16</td>     <th>  Log-Likelihood:    </th>          <td> -368.58</td> \n",
       "</tr>\n",
       "<tr>\n",
       "  <th>No. Observations:</th>      <td>   500</td>      <th>  AIC:               </th>          <td>   739.2</td> \n",
       "</tr>\n",
       "<tr>\n",
       "  <th>Df Residuals:</th>          <td>   499</td>      <th>  BIC:               </th>          <td>   743.4</td> \n",
       "</tr>\n",
       "<tr>\n",
       "  <th>Df Model:</th>              <td>     1</td>      <th>                     </th>              <td> </td>    \n",
       "</tr>\n",
       "<tr>\n",
       "  <th>Covariance Type:</th>      <td>nonrobust</td>    <th>                     </th>              <td> </td>    \n",
       "</tr>\n",
       "</table>\n",
       "<table class=\"simpletable\">\n",
       "<tr>\n",
       "   <td></td>     <th>coef</th>     <th>std err</th>      <th>t</th>      <th>P>|t|</th>  <th>[0.025</th>    <th>0.975]</th>  \n",
       "</tr>\n",
       "<tr>\n",
       "  <th>x1</th> <td>    1.6245</td> <td>    0.011</td> <td>  147.882</td> <td> 0.000</td> <td>    1.603</td> <td>    1.646</td>\n",
       "</tr>\n",
       "</table>\n",
       "<table class=\"simpletable\">\n",
       "<tr>\n",
       "  <th>Omnibus:</th>       <td>121.702</td> <th>  Durbin-Watson:     </th> <td>   1.396</td>\n",
       "</tr>\n",
       "<tr>\n",
       "  <th>Prob(Omnibus):</th> <td> 0.000</td>  <th>  Jarque-Bera (JB):  </th> <td>  51.262</td>\n",
       "</tr>\n",
       "<tr>\n",
       "  <th>Skew:</th>          <td> 0.609</td>  <th>  Prob(JB):          </th> <td>7.39e-12</td>\n",
       "</tr>\n",
       "<tr>\n",
       "  <th>Kurtosis:</th>      <td> 2.012</td>  <th>  Cond. No.          </th> <td>    1.00</td>\n",
       "</tr>\n",
       "</table><br/><br/>Notes:<br/>[1] R² is computed without centering (uncentered) since the model does not contain a constant.<br/>[2] Standard Errors assume that the covariance matrix of the errors is correctly specified."
      ],
      "text/plain": [
       "<class 'statsmodels.iolib.summary.Summary'>\n",
       "\"\"\"\n",
       "                                 OLS Regression Results                                \n",
       "=======================================================================================\n",
       "Dep. Variable:                 rating   R-squared (uncentered):                   0.978\n",
       "Model:                            OLS   Adj. R-squared (uncentered):              0.978\n",
       "Method:                 Least Squares   F-statistic:                          2.187e+04\n",
       "Date:                Wed, 22 Mar 2023   Prob (F-statistic):                        0.00\n",
       "Time:                        15:59:16   Log-Likelihood:                         -368.58\n",
       "No. Observations:                 500   AIC:                                      739.2\n",
       "Df Residuals:                     499   BIC:                                      743.4\n",
       "Df Model:                           1                                                  \n",
       "Covariance Type:            nonrobust                                                  \n",
       "==============================================================================\n",
       "                 coef    std err          t      P>|t|      [0.025      0.975]\n",
       "------------------------------------------------------------------------------\n",
       "x1             1.6245      0.011    147.882      0.000       1.603       1.646\n",
       "==============================================================================\n",
       "Omnibus:                      121.702   Durbin-Watson:                   1.396\n",
       "Prob(Omnibus):                  0.000   Jarque-Bera (JB):               51.262\n",
       "Skew:                           0.609   Prob(JB):                     7.39e-12\n",
       "Kurtosis:                       2.012   Cond. No.                         1.00\n",
       "==============================================================================\n",
       "\n",
       "Notes:\n",
       "[1] R² is computed without centering (uncentered) since the model does not contain a constant.\n",
       "[2] Standard Errors assume that the covariance matrix of the errors is correctly specified.\n",
       "\"\"\""
      ]
     },
     "execution_count": 49,
     "metadata": {},
     "output_type": "execute_result"
    }
   ],
   "source": [
    "x = transformed\n",
    "model1 = sm.OLS(y,x).fit()\n",
    "model1.summary()"
   ]
  },
  {
   "cell_type": "code",
   "execution_count": 50,
   "id": "64b63fca",
   "metadata": {},
   "outputs": [],
   "source": [
    "pred_val = model1.fittedvalues.copy()\n",
    "true_val = ESI['satisfied'].values.copy()\n",
    "residual = true_val - pred_val"
   ]
  },
  {
   "cell_type": "code",
   "execution_count": 51,
   "id": "08b9ac3b",
   "metadata": {},
   "outputs": [],
   "source": [
    "pred_val = model1.fittedvalues.copy()\n",
    "true_val = ESI['rating'].values.copy()\n",
    "residual = true_val - pred_val"
   ]
  },
  {
   "cell_type": "code",
   "execution_count": 52,
   "id": "4b8a9970",
   "metadata": {},
   "outputs": [],
   "source": [
    "# Testing for Multicollinearity"
   ]
  },
  {
   "cell_type": "code",
   "execution_count": 53,
   "id": "7a8b3c56",
   "metadata": {},
   "outputs": [
    {
     "data": {
      "text/html": [
       "<div>\n",
       "<style scoped>\n",
       "    .dataframe tbody tr th:only-of-type {\n",
       "        vertical-align: middle;\n",
       "    }\n",
       "\n",
       "    .dataframe tbody tr th {\n",
       "        vertical-align: top;\n",
       "    }\n",
       "\n",
       "    .dataframe thead th {\n",
       "        text-align: right;\n",
       "    }\n",
       "</style>\n",
       "<table border=\"1\" class=\"dataframe\">\n",
       "  <thead>\n",
       "    <tr style=\"text-align: right;\">\n",
       "      <th></th>\n",
       "      <th>age</th>\n",
       "      <th>job_level</th>\n",
       "      <th>rating</th>\n",
       "      <th>satisfied</th>\n",
       "      <th>onsite</th>\n",
       "      <th>Dept1</th>\n",
       "      <th>recruitment_type1</th>\n",
       "      <th>education1</th>\n",
       "      <th>location1</th>\n",
       "    </tr>\n",
       "  </thead>\n",
       "  <tbody>\n",
       "    <tr>\n",
       "      <th>age</th>\n",
       "      <td>1.000000</td>\n",
       "      <td>-0.057528</td>\n",
       "      <td>-0.096388</td>\n",
       "      <td>0.004490</td>\n",
       "      <td>-0.054055</td>\n",
       "      <td>0.058815</td>\n",
       "      <td>0.043458</td>\n",
       "      <td>-0.011481</td>\n",
       "      <td>0.058575</td>\n",
       "    </tr>\n",
       "    <tr>\n",
       "      <th>job_level</th>\n",
       "      <td>-0.057528</td>\n",
       "      <td>1.000000</td>\n",
       "      <td>0.081829</td>\n",
       "      <td>0.010093</td>\n",
       "      <td>-0.054843</td>\n",
       "      <td>-0.038130</td>\n",
       "      <td>0.072776</td>\n",
       "      <td>0.014423</td>\n",
       "      <td>-0.007632</td>\n",
       "    </tr>\n",
       "    <tr>\n",
       "      <th>rating</th>\n",
       "      <td>-0.096388</td>\n",
       "      <td>0.081829</td>\n",
       "      <td>1.000000</td>\n",
       "      <td>0.093024</td>\n",
       "      <td>0.009079</td>\n",
       "      <td>-0.007573</td>\n",
       "      <td>-0.062106</td>\n",
       "      <td>0.054200</td>\n",
       "      <td>-0.026293</td>\n",
       "    </tr>\n",
       "    <tr>\n",
       "      <th>satisfied</th>\n",
       "      <td>0.004490</td>\n",
       "      <td>0.010093</td>\n",
       "      <td>0.093024</td>\n",
       "      <td>1.000000</td>\n",
       "      <td>0.027637</td>\n",
       "      <td>0.048077</td>\n",
       "      <td>-0.033818</td>\n",
       "      <td>-0.027208</td>\n",
       "      <td>-0.030188</td>\n",
       "    </tr>\n",
       "    <tr>\n",
       "      <th>onsite</th>\n",
       "      <td>-0.054055</td>\n",
       "      <td>-0.054843</td>\n",
       "      <td>0.009079</td>\n",
       "      <td>0.027637</td>\n",
       "      <td>1.000000</td>\n",
       "      <td>-0.031563</td>\n",
       "      <td>-0.061201</td>\n",
       "      <td>0.051037</td>\n",
       "      <td>-0.002455</td>\n",
       "    </tr>\n",
       "    <tr>\n",
       "      <th>Dept1</th>\n",
       "      <td>0.058815</td>\n",
       "      <td>-0.038130</td>\n",
       "      <td>-0.007573</td>\n",
       "      <td>0.048077</td>\n",
       "      <td>-0.031563</td>\n",
       "      <td>1.000000</td>\n",
       "      <td>-0.007883</td>\n",
       "      <td>0.003809</td>\n",
       "      <td>-0.053267</td>\n",
       "    </tr>\n",
       "    <tr>\n",
       "      <th>recruitment_type1</th>\n",
       "      <td>0.043458</td>\n",
       "      <td>0.072776</td>\n",
       "      <td>-0.062106</td>\n",
       "      <td>-0.033818</td>\n",
       "      <td>-0.061201</td>\n",
       "      <td>-0.007883</td>\n",
       "      <td>1.000000</td>\n",
       "      <td>-0.063192</td>\n",
       "      <td>0.019606</td>\n",
       "    </tr>\n",
       "    <tr>\n",
       "      <th>education1</th>\n",
       "      <td>-0.011481</td>\n",
       "      <td>0.014423</td>\n",
       "      <td>0.054200</td>\n",
       "      <td>-0.027208</td>\n",
       "      <td>0.051037</td>\n",
       "      <td>0.003809</td>\n",
       "      <td>-0.063192</td>\n",
       "      <td>1.000000</td>\n",
       "      <td>-0.092648</td>\n",
       "    </tr>\n",
       "    <tr>\n",
       "      <th>location1</th>\n",
       "      <td>0.058575</td>\n",
       "      <td>-0.007632</td>\n",
       "      <td>-0.026293</td>\n",
       "      <td>-0.030188</td>\n",
       "      <td>-0.002455</td>\n",
       "      <td>-0.053267</td>\n",
       "      <td>0.019606</td>\n",
       "      <td>-0.092648</td>\n",
       "      <td>1.000000</td>\n",
       "    </tr>\n",
       "  </tbody>\n",
       "</table>\n",
       "</div>"
      ],
      "text/plain": [
       "                        age  job_level    rating  satisfied    onsite  \\\n",
       "age                1.000000  -0.057528 -0.096388   0.004490 -0.054055   \n",
       "job_level         -0.057528   1.000000  0.081829   0.010093 -0.054843   \n",
       "rating            -0.096388   0.081829  1.000000   0.093024  0.009079   \n",
       "satisfied          0.004490   0.010093  0.093024   1.000000  0.027637   \n",
       "onsite            -0.054055  -0.054843  0.009079   0.027637  1.000000   \n",
       "Dept1              0.058815  -0.038130 -0.007573   0.048077 -0.031563   \n",
       "recruitment_type1  0.043458   0.072776 -0.062106  -0.033818 -0.061201   \n",
       "education1        -0.011481   0.014423  0.054200  -0.027208  0.051037   \n",
       "location1          0.058575  -0.007632 -0.026293  -0.030188 -0.002455   \n",
       "\n",
       "                      Dept1  recruitment_type1  education1  location1  \n",
       "age                0.058815           0.043458   -0.011481   0.058575  \n",
       "job_level         -0.038130           0.072776    0.014423  -0.007632  \n",
       "rating            -0.007573          -0.062106    0.054200  -0.026293  \n",
       "satisfied          0.048077          -0.033818   -0.027208  -0.030188  \n",
       "onsite            -0.031563          -0.061201    0.051037  -0.002455  \n",
       "Dept1              1.000000          -0.007883    0.003809  -0.053267  \n",
       "recruitment_type1 -0.007883           1.000000   -0.063192   0.019606  \n",
       "education1         0.003809          -0.063192    1.000000  -0.092648  \n",
       "location1         -0.053267           0.019606   -0.092648   1.000000  "
      ]
     },
     "execution_count": 53,
     "metadata": {},
     "output_type": "execute_result"
    }
   ],
   "source": [
    "emsain.corr()"
   ]
  },
  {
   "cell_type": "code",
   "execution_count": null,
   "id": "40556c64",
   "metadata": {},
   "outputs": [],
   "source": []
  }
 ],
 "metadata": {
  "kernelspec": {
   "display_name": "Python 3 (ipykernel)",
   "language": "python",
   "name": "python3"
  },
  "language_info": {
   "codemirror_mode": {
    "name": "ipython",
    "version": 3
   },
   "file_extension": ".py",
   "mimetype": "text/x-python",
   "name": "python",
   "nbconvert_exporter": "python",
   "pygments_lexer": "ipython3",
   "version": "3.9.13"
  }
 },
 "nbformat": 4,
 "nbformat_minor": 5
}
